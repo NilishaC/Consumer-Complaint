{
 "cells": [
  {
   "cell_type": "code",
   "execution_count": 1,
   "metadata": {},
   "outputs": [],
   "source": [
    "import pandas as pd\n",
    "import numpy as np"
   ]
  },
  {
   "cell_type": "code",
   "execution_count": 2,
   "metadata": {},
   "outputs": [],
   "source": [
    "cc_train= pd.read_csv(r\"C:\\Users\\Dell\\Downloads\\Machine Learning Course Material\\Edvancer\\Project Work\\Case Study 1 - Consumer_Complaints\\Consumer_Complaints_train.csv\")"
   ]
  },
  {
   "cell_type": "code",
   "execution_count": 3,
   "metadata": {},
   "outputs": [],
   "source": [
    "cc_test=pd.read_csv(r\"C:\\Users\\Dell\\Downloads\\Machine Learning Course Material\\Edvancer\\Project Work\\Case Study 1 - Consumer_Complaints\\Consumer_Complaints_test_share.csv\")"
   ]
  },
  {
   "cell_type": "code",
   "execution_count": 4,
   "metadata": {},
   "outputs": [],
   "source": [
    "cc_test['Consumer disputed?']=np.nan\n",
    "\n",
    "cc_train['data']='train'\n",
    "cc_test['data']='test'\n",
    "cc_test=cc_test[cc_train.columns]\n",
    "\n",
    "cc_all=pd.concat([cc_train,cc_test], axis=0)"
   ]
  },
  {
   "cell_type": "code",
   "execution_count": 6,
   "metadata": {},
   "outputs": [
    {
     "data": {
      "text/plain": [
       "'\\nfor col in cc_all.columns:\\n    print(cc_all[col].isna().value_counts())\\n    print(cc_all[col].nunique())\\n    print(\"--------------------------------------------------------\")\\n'"
      ]
     },
     "execution_count": 6,
     "metadata": {},
     "output_type": "execute_result"
    }
   ],
   "source": [
    "'''\n",
    "for col in cc_all.columns:\n",
    "    print(cc_all[col].isna().value_counts())\n",
    "    print(cc_all[col].nunique())\n",
    "    print(\"--------------------------------------------------------\")\n",
    "'''"
   ]
  },
  {
   "cell_type": "code",
   "execution_count": 7,
   "metadata": {},
   "outputs": [
    {
     "data": {
      "text/plain": [
       "(598027, 19)"
      ]
     },
     "execution_count": 7,
     "metadata": {},
     "output_type": "execute_result"
    }
   ],
   "source": [
    "cc_all.shape"
   ]
  },
  {
   "cell_type": "code",
   "execution_count": 6,
   "metadata": {},
   "outputs": [
    {
     "data": {
      "text/plain": [
       "[('Date received', dtype('O'), 1759),\n",
       " ('Product', dtype('O'), 12),\n",
       " ('Sub-product', dtype('O'), 47),\n",
       " ('Issue', dtype('O'), 95),\n",
       " ('Sub-issue', dtype('O'), 68),\n",
       " ('Consumer complaint narrative', dtype('O'), 92118),\n",
       " ('Company public response', dtype('O'), 10),\n",
       " ('Company', dtype('O'), 3437),\n",
       " ('State', dtype('O'), 62),\n",
       " ('ZIP code', dtype('O'), 27342),\n",
       " ('Tags', dtype('O'), 3),\n",
       " ('Consumer consent provided?', dtype('O'), 4),\n",
       " ('Submitted via', dtype('O'), 6),\n",
       " ('Date sent to company', dtype('O'), 1708),\n",
       " ('Company response to consumer', dtype('O'), 7),\n",
       " ('Timely response?', dtype('O'), 2),\n",
       " ('Consumer disputed?', dtype('O'), 2),\n",
       " ('Complaint ID', dtype('int64'), 598027),\n",
       " ('data', dtype('O'), 2)]"
      ]
     },
     "execution_count": 6,
     "metadata": {},
     "output_type": "execute_result"
    }
   ],
   "source": [
    "list(zip(cc_all.columns, cc_all.dtypes, cc_all.nunique()))"
   ]
  },
  {
   "cell_type": "code",
   "execution_count": 7,
   "metadata": {
    "scrolled": true
   },
   "outputs": [
    {
     "data": {
      "text/plain": [
       "Older American, Servicemember     6868\n",
       "Servicemember                    28406\n",
       "Older American                   48803\n",
       "Name: Tags, dtype: int64"
      ]
     },
     "execution_count": 7,
     "metadata": {},
     "output_type": "execute_result"
    }
   ],
   "source": [
    "cc_all[\"Tags\"].value_counts().sort_values()"
   ]
  },
  {
   "cell_type": "code",
   "execution_count": 15,
   "metadata": {},
   "outputs": [
    {
     "data": {
      "text/plain": [
       "Untimely response                       2\n",
       "Closed with relief                   5224\n",
       "Closed                              14227\n",
       "Closed without relief               17769\n",
       "Closed with monetary relief         41188\n",
       "Closed with non-monetary relief     76861\n",
       "Closed with explanation            442756\n",
       "Name: Company response to consumer, dtype: int64"
      ]
     },
     "execution_count": 15,
     "metadata": {},
     "output_type": "execute_result"
    }
   ],
   "source": [
    "cc_all['Company response to consumer'].value_counts().sort_values()"
   ]
  },
  {
   "cell_type": "code",
   "execution_count": 16,
   "metadata": {},
   "outputs": [
    {
     "data": {
      "text/plain": [
       "Index(['Date received', 'Product', 'Sub-product', 'Issue', 'Sub-issue',\n",
       "       'Consumer complaint narrative', 'Company public response', 'Company',\n",
       "       'State', 'ZIP code', 'Tags', 'Consumer consent provided?',\n",
       "       'Submitted via', 'Date sent to company', 'Company response to consumer',\n",
       "       'Timely response?', 'Consumer disputed?', 'Complaint ID', 'data'],\n",
       "      dtype='object')"
      ]
     },
     "execution_count": 16,
     "metadata": {},
     "output_type": "execute_result"
    }
   ],
   "source": [
    "cc_all.columns"
   ]
  },
  {
   "cell_type": "code",
   "execution_count": 8,
   "metadata": {},
   "outputs": [],
   "source": [
    "cc_dummy=cc_all[[ 'Product', 'Issue', \n",
    "       'State', 'Consumer consent provided?',\n",
    "       'Submitted via', 'Company response to consumer',\n",
    "       'Timely response?', 'Consumer disputed?']]"
   ]
  },
  {
   "cell_type": "code",
   "execution_count": 9,
   "metadata": {},
   "outputs": [],
   "source": [
    "cat_vars=cc_dummy.select_dtypes(['object']).columns"
   ]
  },
  {
   "cell_type": "code",
   "execution_count": 10,
   "metadata": {},
   "outputs": [
    {
     "data": {
      "text/plain": [
       "(598027, 8)"
      ]
     },
     "execution_count": 10,
     "metadata": {},
     "output_type": "execute_result"
    }
   ],
   "source": [
    "cc_dummy.shape"
   ]
  },
  {
   "cell_type": "code",
   "execution_count": 11,
   "metadata": {},
   "outputs": [
    {
     "name": "stdout",
     "output_type": "stream",
     "text": [
      "Product\n",
      "Issue\n",
      "State\n",
      "Consumer consent provided?\n",
      "Submitted via\n",
      "Company response to consumer\n",
      "Timely response?\n",
      "Consumer disputed?\n"
     ]
    }
   ],
   "source": [
    "for cols in cat_vars:\n",
    "    dummy=pd.get_dummies(cc_dummy[cols],drop_first=True,prefix=cols)\n",
    "    cc_dummy=pd.concat([cc_dummy,dummy], axis=1)\n",
    "    del cc_dummy[cols]\n",
    "    print(cols)\n",
    "del dummy"
   ]
  },
  {
   "cell_type": "code",
   "execution_count": 12,
   "metadata": {},
   "outputs": [
    {
     "data": {
      "text/plain": [
       "(598027, 182)"
      ]
     },
     "execution_count": 12,
     "metadata": {},
     "output_type": "execute_result"
    }
   ],
   "source": [
    "cc_dummy.shape"
   ]
  },
  {
   "cell_type": "code",
   "execution_count": 21,
   "metadata": {
    "collapsed": true
   },
   "outputs": [
    {
     "data": {
      "text/plain": [
       "Product_Consumer Loan                                           uint8\n",
       "Product_Credit card                                             uint8\n",
       "Product_Credit reporting                                        uint8\n",
       "Product_Debt collection                                         uint8\n",
       "Product_Money transfers                                         uint8\n",
       "Product_Mortgage                                                uint8\n",
       "Product_Other financial service                                 uint8\n",
       "Product_Payday loan                                             uint8\n",
       "Product_Prepaid card                                            uint8\n",
       "Product_Student loan                                            uint8\n",
       "Product_Virtual currency                                        uint8\n",
       "Issue_Account opening, closing, or management                   uint8\n",
       "Issue_Account terms and changes                                 uint8\n",
       "Issue_Adding money                                              uint8\n",
       "Issue_Advertising and marketing                                 uint8\n",
       "Issue_Advertising, marketing or disclosures                     uint8\n",
       "Issue_Application processing delay                              uint8\n",
       "Issue_Application, originator, mortgage broker                  uint8\n",
       "Issue_Applied for loan/did not receive money                    uint8\n",
       "Issue_Arbitration                                               uint8\n",
       "Issue_Balance transfer                                          uint8\n",
       "Issue_Balance transfer fee                                      uint8\n",
       "Issue_Bankruptcy                                                uint8\n",
       "Issue_Billing disputes                                          uint8\n",
       "Issue_Billing statement                                         uint8\n",
       "Issue_Can't contact lender                                      uint8\n",
       "Issue_Can't repay my loan                                       uint8\n",
       "Issue_Can't stop charges to bank account                        uint8\n",
       "Issue_Cash advance                                              uint8\n",
       "Issue_Cash advance fee                                          uint8\n",
       "                                                                ...  \n",
       "State_PW                                                        uint8\n",
       "State_RI                                                        uint8\n",
       "State_SC                                                        uint8\n",
       "State_SD                                                        uint8\n",
       "State_TN                                                        uint8\n",
       "State_TX                                                        uint8\n",
       "State_UT                                                        uint8\n",
       "State_VA                                                        uint8\n",
       "State_VI                                                        uint8\n",
       "State_VT                                                        uint8\n",
       "State_WA                                                        uint8\n",
       "State_WI                                                        uint8\n",
       "State_WV                                                        uint8\n",
       "State_WY                                                        uint8\n",
       "Consumer consent provided?_Consent provided                     uint8\n",
       "Consumer consent provided?_Consent withdrawn                    uint8\n",
       "Consumer consent provided?_Other                                uint8\n",
       "Submitted via_Fax                                               uint8\n",
       "Submitted via_Phone                                             uint8\n",
       "Submitted via_Postal mail                                       uint8\n",
       "Submitted via_Referral                                          uint8\n",
       "Submitted via_Web                                               uint8\n",
       "Company response to consumer_Closed with explanation            uint8\n",
       "Company response to consumer_Closed with monetary relief        uint8\n",
       "Company response to consumer_Closed with non-monetary relief    uint8\n",
       "Company response to consumer_Closed with relief                 uint8\n",
       "Company response to consumer_Closed without relief              uint8\n",
       "Company response to consumer_Untimely response                  uint8\n",
       "Timely response?_Yes                                            uint8\n",
       "Consumer disputed?_Yes                                          uint8\n",
       "Length: 182, dtype: object"
      ]
     },
     "execution_count": 21,
     "metadata": {},
     "output_type": "execute_result"
    }
   ],
   "source": [
    "cc_dummy.dtypes"
   ]
  },
  {
   "cell_type": "code",
   "execution_count": 22,
   "metadata": {},
   "outputs": [
    {
     "data": {
      "text/plain": [
       "0    496596\n",
       "1    101431\n",
       "Name: Consumer disputed?_Yes, dtype: int64"
      ]
     },
     "execution_count": 22,
     "metadata": {},
     "output_type": "execute_result"
    }
   ],
   "source": [
    "cc_dummy['Consumer disputed?_Yes'].value_counts()"
   ]
  },
  {
   "cell_type": "code",
   "execution_count": 23,
   "metadata": {
    "collapsed": true
   },
   "outputs": [
    {
     "data": {
      "text/plain": [
       "Product_Consumer Loan                                           0\n",
       "Product_Credit card                                             0\n",
       "Product_Credit reporting                                        0\n",
       "Product_Debt collection                                         0\n",
       "Product_Money transfers                                         0\n",
       "Product_Mortgage                                                0\n",
       "Product_Other financial service                                 0\n",
       "Product_Payday loan                                             0\n",
       "Product_Prepaid card                                            0\n",
       "Product_Student loan                                            0\n",
       "Product_Virtual currency                                        0\n",
       "Issue_Account opening, closing, or management                   0\n",
       "Issue_Account terms and changes                                 0\n",
       "Issue_Adding money                                              0\n",
       "Issue_Advertising and marketing                                 0\n",
       "Issue_Advertising, marketing or disclosures                     0\n",
       "Issue_Application processing delay                              0\n",
       "Issue_Application, originator, mortgage broker                  0\n",
       "Issue_Applied for loan/did not receive money                    0\n",
       "Issue_Arbitration                                               0\n",
       "Issue_Balance transfer                                          0\n",
       "Issue_Balance transfer fee                                      0\n",
       "Issue_Bankruptcy                                                0\n",
       "Issue_Billing disputes                                          0\n",
       "Issue_Billing statement                                         0\n",
       "Issue_Can't contact lender                                      0\n",
       "Issue_Can't repay my loan                                       0\n",
       "Issue_Can't stop charges to bank account                        0\n",
       "Issue_Cash advance                                              0\n",
       "Issue_Cash advance fee                                          0\n",
       "                                                               ..\n",
       "State_PW                                                        0\n",
       "State_RI                                                        0\n",
       "State_SC                                                        0\n",
       "State_SD                                                        0\n",
       "State_TN                                                        0\n",
       "State_TX                                                        0\n",
       "State_UT                                                        0\n",
       "State_VA                                                        0\n",
       "State_VI                                                        0\n",
       "State_VT                                                        0\n",
       "State_WA                                                        0\n",
       "State_WI                                                        0\n",
       "State_WV                                                        0\n",
       "State_WY                                                        0\n",
       "Consumer consent provided?_Consent provided                     0\n",
       "Consumer consent provided?_Consent withdrawn                    0\n",
       "Consumer consent provided?_Other                                0\n",
       "Submitted via_Fax                                               0\n",
       "Submitted via_Phone                                             0\n",
       "Submitted via_Postal mail                                       0\n",
       "Submitted via_Referral                                          0\n",
       "Submitted via_Web                                               0\n",
       "Company response to consumer_Closed with explanation            0\n",
       "Company response to consumer_Closed with monetary relief        0\n",
       "Company response to consumer_Closed with non-monetary relief    0\n",
       "Company response to consumer_Closed with relief                 0\n",
       "Company response to consumer_Closed without relief              0\n",
       "Company response to consumer_Untimely response                  0\n",
       "Timely response?_Yes                                            0\n",
       "Consumer disputed?_Yes                                          0\n",
       "Length: 182, dtype: int64"
      ]
     },
     "execution_count": 23,
     "metadata": {},
     "output_type": "execute_result"
    }
   ],
   "source": [
    "cc_dummy.isnull().sum()"
   ]
  },
  {
   "cell_type": "code",
   "execution_count": 13,
   "metadata": {},
   "outputs": [],
   "source": [
    "cc_dummy['data']=cc_all['data']"
   ]
  },
  {
   "cell_type": "code",
   "execution_count": 14,
   "metadata": {},
   "outputs": [],
   "source": [
    "train_df=cc_dummy[cc_dummy['data']=='train']\n",
    "del train_df['data']"
   ]
  },
  {
   "cell_type": "code",
   "execution_count": 15,
   "metadata": {},
   "outputs": [
    {
     "data": {
      "text/plain": [
       "Index(['Product_Consumer Loan', 'Product_Credit card',\n",
       "       'Product_Credit reporting', 'Product_Debt collection',\n",
       "       'Product_Money transfers', 'Product_Mortgage',\n",
       "       'Product_Other financial service', 'Product_Payday loan',\n",
       "       'Product_Prepaid card', 'Product_Student loan',\n",
       "       ...\n",
       "       'Submitted via_Referral', 'Submitted via_Web',\n",
       "       'Company response to consumer_Closed with explanation',\n",
       "       'Company response to consumer_Closed with monetary relief',\n",
       "       'Company response to consumer_Closed with non-monetary relief',\n",
       "       'Company response to consumer_Closed with relief',\n",
       "       'Company response to consumer_Closed without relief',\n",
       "       'Company response to consumer_Untimely response',\n",
       "       'Timely response?_Yes', 'Consumer disputed?_Yes'],\n",
       "      dtype='object', length=182)"
      ]
     },
     "execution_count": 15,
     "metadata": {},
     "output_type": "execute_result"
    }
   ],
   "source": [
    "train_df.columns"
   ]
  },
  {
   "cell_type": "code",
   "execution_count": null,
   "metadata": {},
   "outputs": [],
   "source": []
  },
  {
   "cell_type": "code",
   "execution_count": null,
   "metadata": {},
   "outputs": [],
   "source": []
  },
  {
   "cell_type": "code",
   "execution_count": 16,
   "metadata": {
    "scrolled": true
   },
   "outputs": [
    {
     "name": "stderr",
     "output_type": "stream",
     "text": [
      "C:\\Installed_Apps\\Anaconda3-v2\\lib\\site-packages\\pandas\\core\\frame.py:3694: SettingWithCopyWarning: \n",
      "A value is trying to be set on a copy of a slice from a DataFrame\n",
      "\n",
      "See the caveats in the documentation: http://pandas.pydata.org/pandas-docs/stable/indexing.html#indexing-view-versus-copy\n",
      "  errors=errors)\n"
     ]
    }
   ],
   "source": [
    "test_df=cc_dummy[cc_dummy['data']=='test']\n",
    "test_df.drop(['Consumer disputed?_Yes','data'], axis=1, inplace=True)"
   ]
  },
  {
   "cell_type": "code",
   "execution_count": 17,
   "metadata": {},
   "outputs": [
    {
     "data": {
      "text/plain": [
       "(119606, 19)"
      ]
     },
     "execution_count": 17,
     "metadata": {},
     "output_type": "execute_result"
    }
   ],
   "source": [
    "cc_test.shape"
   ]
  },
  {
   "cell_type": "code",
   "execution_count": 18,
   "metadata": {},
   "outputs": [],
   "source": [
    "x = train_df.drop(['Consumer disputed?_Yes'], axis=1)\n",
    "y = train_df['Consumer disputed?_Yes']"
   ]
  },
  {
   "cell_type": "code",
   "execution_count": 19,
   "metadata": {},
   "outputs": [],
   "source": [
    "from sklearn.model_selection import train_test_split"
   ]
  },
  {
   "cell_type": "code",
   "execution_count": 20,
   "metadata": {},
   "outputs": [],
   "source": [
    "#implementing train test split\n",
    "x_train,x_test,y_train,y_test=train_test_split(x,y,test_size=0.33, random_state=66)"
   ]
  },
  {
   "cell_type": "markdown",
   "metadata": {},
   "source": [
    "### -------------------------------------------------------Using Random Forest Method -------------------------------------------------------"
   ]
  },
  {
   "cell_type": "code",
   "execution_count": 49,
   "metadata": {},
   "outputs": [],
   "source": [
    "from sklearn import model_selection\n",
    "from sklearn.ensemble import RandomForestClassifier\n",
    "\n",
    "#random forest model creation\n",
    "rfc= RandomForestClassifier()\n",
    "rfc.fit(x_train, y_train)\n",
    "\n",
    "#predictions\n",
    "rfc_predict= rfc.predict(x_test)"
   ]
  },
  {
   "cell_type": "code",
   "execution_count": 50,
   "metadata": {},
   "outputs": [],
   "source": [
    "#evaluation performance\n",
    "\n",
    "from sklearn.model_selection import cross_val_score\n",
    "from sklearn.metrics import classification_report, confusion_matrix\n",
    "\n",
    "rfc_cv_score=cross_val_score(rfc,x,y,cv=10, scoring='roc_auc')"
   ]
  },
  {
   "cell_type": "code",
   "execution_count": 51,
   "metadata": {
    "collapsed": true
   },
   "outputs": [
    {
     "name": "stdout",
     "output_type": "stream",
     "text": [
      "=== Confusion Matrix ===\n",
      "[[121603   3041]\n",
      " [ 31949   1286]]\n",
      "\n",
      "\n",
      "=== Classification Report ===\n",
      "             precision    recall  f1-score   support\n",
      "\n",
      "          0       0.79      0.98      0.87    124644\n",
      "          1       0.30      0.04      0.07     33235\n",
      "\n",
      "avg / total       0.69      0.78      0.70    157879\n",
      "\n",
      "\n",
      "\n",
      "=== All AUC Scores ===\n",
      "[0.59497762 0.59492185 0.59585296 0.59691761 0.58732403 0.59354491\n",
      " 0.5951028  0.5877526  0.60134993 0.59720407]\n",
      "\n",
      "\n",
      "=== Mean AUC Score ===\n",
      "Mean AUC Score - Random Forest:  0.5944948376283112\n"
     ]
    }
   ],
   "source": [
    "print(\"=== Confusion Matrix ===\")\n",
    "print(confusion_matrix(y_test, rfc_predict))\n",
    "print('\\n')\n",
    "print(\"=== Classification Report ===\")\n",
    "print(classification_report(y_test, rfc_predict))\n",
    "print('\\n')\n",
    "print(\"=== All AUC Scores ===\")\n",
    "print(rfc_cv_score)\n",
    "print('\\n')\n",
    "print(\"=== Mean AUC Score ===\")\n",
    "print(\"Mean AUC Score - Random Forest: \", rfc_cv_score.mean())"
   ]
  },
  {
   "cell_type": "code",
   "execution_count": 58,
   "metadata": {},
   "outputs": [],
   "source": [
    "final_predictions = rfc.predict(test_df)"
   ]
  },
  {
   "cell_type": "code",
   "execution_count": 1,
   "metadata": {},
   "outputs": [
    {
     "ename": "NameError",
     "evalue": "name 'pd' is not defined",
     "output_type": "error",
     "traceback": [
      "\u001b[1;31m---------------------------------------------------------------------------\u001b[0m",
      "\u001b[1;31mNameError\u001b[0m                                 Traceback (most recent call last)",
      "\u001b[1;32m<ipython-input-1-1c61df3cc329>\u001b[0m in \u001b[0;36m<module>\u001b[1;34m()\u001b[0m\n\u001b[1;32m----> 1\u001b[1;33m \u001b[0mfinal_predictions\u001b[0m \u001b[1;33m=\u001b[0m \u001b[0mpd\u001b[0m\u001b[1;33m.\u001b[0m\u001b[0mSeries\u001b[0m\u001b[1;33m(\u001b[0m\u001b[0mfinal_predictions\u001b[0m\u001b[1;33m)\u001b[0m\u001b[1;33m.\u001b[0m\u001b[0mapply\u001b[0m\u001b[1;33m(\u001b[0m\u001b[1;32mlambda\u001b[0m \u001b[0mx\u001b[0m \u001b[1;33m:\u001b[0m\u001b[1;34m'Yes'\u001b[0m \u001b[1;32mif\u001b[0m \u001b[0mx\u001b[0m \u001b[1;33m==\u001b[0m\u001b[1;36m1\u001b[0m \u001b[1;32melse\u001b[0m \u001b[1;34m'No'\u001b[0m\u001b[1;33m)\u001b[0m\u001b[1;33m\u001b[0m\u001b[0m\n\u001b[0m",
      "\u001b[1;31mNameError\u001b[0m: name 'pd' is not defined"
     ]
    }
   ],
   "source": [
    "final_predictions = pd.Series(final_predictions).apply(lambda x :'Yes' if x ==1 else 'No')"
   ]
  },
  {
   "cell_type": "code",
   "execution_count": 73,
   "metadata": {},
   "outputs": [],
   "source": [
    "finalDF = pd.DataFrame()"
   ]
  },
  {
   "cell_type": "code",
   "execution_count": 74,
   "metadata": {},
   "outputs": [],
   "source": [
    "finalDF['Complaint ID'] = cc_test['Complaint ID']\n",
    "finalDF['Consumer disputed?'] = final_predictions"
   ]
  },
  {
   "cell_type": "code",
   "execution_count": 76,
   "metadata": {},
   "outputs": [],
   "source": [
    "finalDF.to_csv(\"sample_submission.csv\", index=False)"
   ]
  },
  {
   "cell_type": "markdown",
   "metadata": {},
   "source": [
    "### -------------------------------------------------------Using Gradient Boosting Method -------------------------------------------------------"
   ]
  },
  {
   "cell_type": "code",
   "execution_count": 26,
   "metadata": {},
   "outputs": [],
   "source": [
    "from sklearn.ensemble import GradientBoostingClassifier\n",
    "\n",
    "params = {'n_estimators': 500, 'max_depth': 4, 'min_samples_split': 2,\n",
    "          'learning_rate': 0.01, 'loss': 'deviance'}\n"
   ]
  },
  {
   "cell_type": "code",
   "execution_count": null,
   "metadata": {},
   "outputs": [],
   "source": [
    "import sklearn.metrices"
   ]
  },
  {
   "cell_type": "code",
   "execution_count": null,
   "metadata": {},
   "outputs": [],
   "source": [
    "clf = GradientBoostingClassifier(**params)\n",
    "\n",
    "clf.fit(x_train, y_train)"
   ]
  },
  {
   "cell_type": "code",
   "execution_count": null,
   "metadata": {},
   "outputs": [],
   "source": [
    "final_predictions = clf.predict(x_test)\n",
    "predictions = [round(value) for value in final_predictions]\n",
    "metrices.accuracy_score(y_test, predictions)\n"
   ]
  }
 ],
 "metadata": {
  "kernelspec": {
   "display_name": "Python 3",
   "language": "python",
   "name": "python3"
  },
  "language_info": {
   "codemirror_mode": {
    "name": "ipython",
    "version": 3
   },
   "file_extension": ".py",
   "mimetype": "text/x-python",
   "name": "python",
   "nbconvert_exporter": "python",
   "pygments_lexer": "ipython3",
   "version": "3.7.0"
  }
 },
 "nbformat": 4,
 "nbformat_minor": 2
}
